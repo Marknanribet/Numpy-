{
 "cells": [
  {
   "cell_type": "markdown",
   "metadata": {
    "id": "LG5t8he1wLFF"
   },
   "source": [
    "___\n",
    "___"
   ]
  },
  {
   "cell_type": "markdown",
   "metadata": {
    "id": "zDAftDPEwLFU"
   },
   "source": [
    "# NumPy Exercises \n",
    "\n",
    "Now that we've learned about NumPy let's test your knowledge. We'll start off with a few simple tasks, and then you'll be asked some more complicated questions."
   ]
  },
  {
   "cell_type": "markdown",
   "metadata": {
    "id": "VYq1U3-4wLFX"
   },
   "source": [
    "#### Import NumPy as np"
   ]
  },
  {
   "cell_type": "code",
   "execution_count": 27,
   "metadata": {
    "id": "3E3jfEHgwLFZ"
   },
   "outputs": [],
   "source": [
    "import numpy as np"
   ]
  },
  {
   "cell_type": "markdown",
   "metadata": {
    "id": "OtRczLzswLFe"
   },
   "source": [
    "#### Create an array of 10 zeros "
   ]
  },
  {
   "cell_type": "code",
   "execution_count": 28,
   "metadata": {
    "id": "SaqTqp0zwLFf",
    "outputId": "518c353f-d8b7-4cde-f1f5-5983d4415276"
   },
   "outputs": [
    {
     "data": {
      "text/plain": [
       "array([0., 0., 0., 0., 0., 0., 0., 0., 0., 0.])"
      ]
     },
     "execution_count": 28,
     "metadata": {},
     "output_type": "execute_result"
    }
   ],
   "source": [
    "np.zeros(10)"
   ]
  },
  {
   "cell_type": "markdown",
   "metadata": {
    "id": "E1mDPkT7wLFk"
   },
   "source": [
    "#### Create an array of 10 ones"
   ]
  },
  {
   "cell_type": "code",
   "execution_count": 29,
   "metadata": {
    "id": "Qgkn_PLEwLFn",
    "outputId": "913d2844-ddf0-4a58-a505-d0a14efb23e2"
   },
   "outputs": [
    {
     "data": {
      "text/plain": [
       "array([1., 1., 1., 1., 1., 1., 1., 1., 1., 1.])"
      ]
     },
     "execution_count": 29,
     "metadata": {},
     "output_type": "execute_result"
    }
   ],
   "source": [
    "np.ones(10)"
   ]
  },
  {
   "cell_type": "markdown",
   "metadata": {
    "id": "aA9NdF_nwLFp"
   },
   "source": [
    "#### Create an array of 10 fives"
   ]
  },
  {
   "cell_type": "code",
   "execution_count": 30,
   "metadata": {
    "id": "73Up4INmwLFt"
   },
   "outputs": [
    {
     "data": {
      "text/plain": [
       "array([5., 5., 5., 5., 5., 5., 5., 5., 5., 5.])"
      ]
     },
     "execution_count": 30,
     "metadata": {},
     "output_type": "execute_result"
    }
   ],
   "source": [
    "a = np.ones(10)\n",
    "a *5"
   ]
  },
  {
   "cell_type": "markdown",
   "metadata": {
    "id": "gO9fa8bQwLFv"
   },
   "source": [
    "#### Create an array of the integers from 10 to 50"
   ]
  },
  {
   "cell_type": "code",
   "execution_count": 31,
   "metadata": {
    "id": "NK5OJhz7wLFx",
    "outputId": "95cce0fb-3444-4a43-9585-ab66c1e83451"
   },
   "outputs": [
    {
     "data": {
      "text/plain": [
       "array([10, 11, 12, 13, 14, 15, 16, 17, 18, 19, 20, 21, 22, 23, 24, 25, 26,\n",
       "       27, 28, 29, 30, 31, 32, 33, 34, 35, 36, 37, 38, 39, 40, 41, 42, 43,\n",
       "       44, 45, 46, 47, 48, 49, 50])"
      ]
     },
     "execution_count": 31,
     "metadata": {},
     "output_type": "execute_result"
    }
   ],
   "source": [
    "np.arange(10,51)"
   ]
  },
  {
   "cell_type": "markdown",
   "metadata": {
    "id": "1zPS7SA1wLFz"
   },
   "source": [
    "#### Create an array of all the even integers from 10 to 50"
   ]
  },
  {
   "cell_type": "code",
   "execution_count": 32,
   "metadata": {
    "id": "vi3Mcb5HwLF0",
    "outputId": "ef16b997-71ed-4f51-e157-876a25147c41"
   },
   "outputs": [
    {
     "data": {
      "text/plain": [
       "array([10, 12, 14, 16, 18, 20, 22, 24, 26, 28, 30, 32, 34, 36, 38, 40, 42,\n",
       "       44, 46, 48])"
      ]
     },
     "execution_count": 32,
     "metadata": {},
     "output_type": "execute_result"
    }
   ],
   "source": [
    "np.arange(10,50,2)"
   ]
  },
  {
   "cell_type": "markdown",
   "metadata": {
    "id": "ykZF9eKCwLF2"
   },
   "source": [
    "#### Create a 3x3 matrix with values ranging from 0 to 8"
   ]
  },
  {
   "cell_type": "code",
   "execution_count": 33,
   "metadata": {
    "id": "4QJLoelewLF3",
    "outputId": "51e87cfe-e744-42d4-da41-21da25287e0d"
   },
   "outputs": [
    {
     "data": {
      "text/plain": [
       "array([[[0, 1, 2],\n",
       "        [3, 4, 5],\n",
       "        [6, 7, 8]]])"
      ]
     },
     "execution_count": 33,
     "metadata": {},
     "output_type": "execute_result"
    }
   ],
   "source": [
    "d=np.array([[[0,1,2],[3,4,5],[6,7,8]]])\n",
    "d"
   ]
  },
  {
   "cell_type": "markdown",
   "metadata": {
    "id": "GoHfu7PUwLF4"
   },
   "source": [
    "#### Create a 3x3 identity matrix"
   ]
  },
  {
   "cell_type": "code",
   "execution_count": 34,
   "metadata": {
    "id": "KsKu0lBRwLF5",
    "outputId": "b06ac43e-aecd-4367-b932-19b697adbe9b"
   },
   "outputs": [
    {
     "data": {
      "text/plain": [
       "array([[1., 0., 0.],\n",
       "       [0., 1., 0.],\n",
       "       [0., 0., 1.]])"
      ]
     },
     "execution_count": 34,
     "metadata": {},
     "output_type": "execute_result"
    }
   ],
   "source": [
    "np.eye(3,3)"
   ]
  },
  {
   "cell_type": "markdown",
   "metadata": {
    "id": "vcY_87JJwLF7"
   },
   "source": [
    "#### Use NumPy to generate a random number between 0 and 1"
   ]
  },
  {
   "cell_type": "code",
   "execution_count": 35,
   "metadata": {
    "id": "eOvsBhj3wLF8",
    "outputId": "3a3600e0-f33a-49b4-9dee-e1c562a277d2"
   },
   "outputs": [
    {
     "data": {
      "text/plain": [
       "array([0.34378179])"
      ]
     },
     "execution_count": 35,
     "metadata": {},
     "output_type": "execute_result"
    }
   ],
   "source": [
    "np.random.rand(1)"
   ]
  },
  {
   "cell_type": "markdown",
   "metadata": {
    "id": "BR6RUeWLwLF9"
   },
   "source": [
    "#### Use NumPy to generate an array of 25 random numbers sampled from a standard normal distribution"
   ]
  },
  {
   "cell_type": "code",
   "execution_count": 36,
   "metadata": {
    "id": "jb4glmJswLF-",
    "outputId": "99490eb1-7ff1-46c2-f90e-66a7dd7cad7e"
   },
   "outputs": [
    {
     "data": {
      "text/plain": [
       "array([[-0.6711581 ,  0.01982784,  1.2099377 ,  0.57691131,  0.26423241],\n",
       "       [-0.91951872,  1.8950378 ,  1.07636833,  2.15233641,  0.84039123],\n",
       "       [ 1.0677922 ,  0.4421381 , -0.95162371, -0.32257805, -0.65073461],\n",
       "       [-0.23874716,  0.94477401, -1.36355709, -0.27917185,  0.06252956],\n",
       "       [-0.55021652,  0.11692956,  0.86152584, -0.05977694, -1.30037288]])"
      ]
     },
     "execution_count": 36,
     "metadata": {},
     "output_type": "execute_result"
    }
   ],
   "source": [
    "np.random.randn(5,5)"
   ]
  },
  {
   "cell_type": "markdown",
   "metadata": {
    "id": "J7h2D065wLF_"
   },
   "source": [
    "#### Create the following matrix:"
   ]
  },
  {
   "cell_type": "code",
   "execution_count": 37,
   "metadata": {
    "id": "J587mgfawLGB",
    "outputId": "ef3bf3f3-d024-4631-cf6a-e1bfdc7d340d"
   },
   "outputs": [
    {
     "data": {
      "text/plain": [
       "array([[4.45414487e-01, 7.91186918e-02, 4.17000767e-01, 2.71862160e-01,\n",
       "        5.29916323e-01, 9.62475595e-01, 1.90642349e-01, 5.59626802e-01,\n",
       "        1.73437232e-01, 8.84237664e-01, 4.95453880e-01, 1.76920918e-01,\n",
       "        8.70052301e-01, 9.81142519e-01, 1.76973324e-01, 5.11331208e-04,\n",
       "        3.06934194e-02, 2.09549399e-01, 9.17907186e-01, 6.51719846e-02,\n",
       "        2.66693613e-01, 1.96846708e-01, 9.79861561e-01, 6.72837906e-01,\n",
       "        5.20736470e-01, 2.37858231e-01, 8.13080602e-02, 5.90828621e-01,\n",
       "        3.19309366e-01, 7.16138950e-02, 3.28569159e-01, 9.72077685e-01,\n",
       "        9.24710418e-01, 5.05333554e-01, 5.10071482e-01, 7.73890446e-01,\n",
       "        7.23916011e-01, 2.78459848e-01, 1.04958088e-01, 5.81443572e-01,\n",
       "        5.51738263e-01, 3.31989100e-01, 1.73421548e-01, 9.46096073e-01,\n",
       "        8.68339085e-01, 1.21052900e-01, 7.71719783e-01, 8.57296954e-01,\n",
       "        9.66764891e-01, 8.57110315e-01, 4.29729168e-01, 5.46756155e-01,\n",
       "        9.33322160e-01, 8.44101855e-01, 7.98852391e-01, 8.85018020e-03,\n",
       "        7.06016033e-01, 6.23877735e-02, 3.25840876e-01, 7.78859097e-01,\n",
       "        6.62924242e-01, 1.19546802e-01, 3.49241047e-01, 3.55140899e-01,\n",
       "        1.47325058e-01, 5.92434601e-01, 5.99716585e-01, 4.76113690e-01,\n",
       "        6.03883139e-01, 4.59828860e-01, 7.53359523e-01, 9.24659089e-01,\n",
       "        9.81977373e-01, 9.97772628e-01, 6.30321093e-01, 3.68458147e-02,\n",
       "        5.14396906e-01, 4.63679496e-01, 7.81462653e-01, 5.90465060e-01,\n",
       "        2.51219838e-01, 7.25766306e-01, 8.52609570e-01, 7.15406829e-01,\n",
       "        2.69156689e-01, 7.56569364e-01, 7.60717043e-01, 2.70251973e-01,\n",
       "        1.46534634e-01, 4.79997084e-01, 6.62826630e-01, 2.45141759e-01,\n",
       "        9.85594614e-01, 6.12153972e-01, 5.30284971e-01, 4.10046193e-01,\n",
       "        2.80254087e-01, 8.56893204e-01, 1.76970542e-01, 1.64146948e-01,\n",
       "        1.04473458e-01]])"
      ]
     },
     "execution_count": 37,
     "metadata": {},
     "output_type": "execute_result"
    }
   ],
   "source": [
    "np.random.rand(1,101)"
   ]
  },
  {
   "cell_type": "markdown",
   "metadata": {
    "id": "D7C9s6XXwLGC"
   },
   "source": [
    "#### Create an array of 20 linearly spaced points between 0 and 1:"
   ]
  },
  {
   "cell_type": "code",
   "execution_count": 38,
   "metadata": {
    "id": "7xmJRx5ywLGD",
    "outputId": "0a744eba-c874-496b-d918-a111dd32d36a"
   },
   "outputs": [
    {
     "data": {
      "text/plain": [
       "array([0.        , 0.05263158, 0.10526316, 0.15789474, 0.21052632,\n",
       "       0.26315789, 0.31578947, 0.36842105, 0.42105263, 0.47368421,\n",
       "       0.52631579, 0.57894737, 0.63157895, 0.68421053, 0.73684211,\n",
       "       0.78947368, 0.84210526, 0.89473684, 0.94736842, 1.        ])"
      ]
     },
     "execution_count": 38,
     "metadata": {},
     "output_type": "execute_result"
    }
   ],
   "source": [
    "np.linspace(0,1,20)"
   ]
  },
  {
   "cell_type": "markdown",
   "metadata": {
    "id": "n8IUdlD6wLGE"
   },
   "source": [
    "## Numpy Indexing and Selection\n",
    "\n",
    "Now you will be given a few matrices, and be asked to replicate the resulting matrix outputs:"
   ]
  },
  {
   "cell_type": "code",
   "execution_count": 39,
   "metadata": {
    "id": "3S_3ntyvwLGG",
    "outputId": "04252492-64bd-49f9-81b6-5b0bad3502fe"
   },
   "outputs": [
    {
     "data": {
      "text/plain": [
       "array([[ 1,  2,  3,  4,  5],\n",
       "       [ 6,  7,  8,  9, 10],\n",
       "       [11, 12, 13, 14, 15],\n",
       "       [16, 17, 18, 19, 20],\n",
       "       [21, 22, 23, 24, 25]])"
      ]
     },
     "execution_count": 39,
     "metadata": {},
     "output_type": "execute_result"
    }
   ],
   "source": [
    "mat = np.arange(1,26).reshape(5,5)\n",
    "mat"
   ]
  },
  {
   "cell_type": "code",
   "execution_count": 40,
   "metadata": {
    "id": "gs7f7gXTwLGI"
   },
   "outputs": [],
   "source": [
    "# WRITE CODE HERE THAT REPRODUCES THE OUTPUT OF THE CELL BELOW\n",
    "# BE CAREFUL NOT TO RUN THE CELL BELOW, OTHERWISE YOU WON'T\n",
    "# BE ABLE TO SEE THE OUTPUT ANY MORE"
   ]
  },
  {
   "cell_type": "code",
   "execution_count": null,
   "metadata": {
    "id": "615Sr8sKwLGK",
    "outputId": "5c61b146-6796-4cb8-bf51-f90542d65a17"
   },
   "outputs": [],
   "source": []
  },
  {
   "cell_type": "code",
   "execution_count": 41,
   "metadata": {
    "id": "znttXzlWwLGM"
   },
   "outputs": [],
   "source": [
    "# WRITE CODE HERE THAT REPRODUCES THE OUTPUT OF THE CELL BELOW\n",
    "# BE CAREFUL NOT TO RUN THE CELL BELOW, OTHERWISE YOU WON'T\n",
    "# BE ABLE TO SEE THE OUTPUT ANY MORE\n"
   ]
  },
  {
   "cell_type": "code",
   "execution_count": 42,
   "metadata": {
    "id": "xqYuRDKPwLGO",
    "outputId": "632e0746-94cb-411c-ee1d-a3eb39b6772a"
   },
   "outputs": [
    {
     "data": {
      "text/plain": [
       "20"
      ]
     },
     "execution_count": 42,
     "metadata": {},
     "output_type": "execute_result"
    }
   ],
   "source": [
    "mat[3,4]"
   ]
  },
  {
   "cell_type": "code",
   "execution_count": 43,
   "metadata": {
    "id": "2GiSS3zFwLGP"
   },
   "outputs": [],
   "source": [
    "# WRITE CODE HERE THAT REPRODUCES THE OUTPUT OF THE CELL BELOW\n",
    "# BE CAREFUL NOT TO RUN THE CELL BELOW, OTHERWISE YOU WON'T\n",
    "# BE ABLE TO SEE THE OUTPUT ANY MORE\n",
    "mat=np.array([[1,2,3],[6,7,8],[11,12,32]])"
   ]
  },
  {
   "cell_type": "code",
   "execution_count": 44,
   "metadata": {
    "id": "7_zSWfCvwLGQ",
    "outputId": "23cd5080-28bc-48e7-cad4-09190bb16506"
   },
   "outputs": [
    {
     "name": "stdout",
     "output_type": "stream",
     "text": [
      "2\n",
      "7\n",
      "12\n"
     ]
    }
   ],
   "source": [
    "print(mat[0,1])\n",
    "print(mat[1,1])\n",
    "print(mat[2,1])"
   ]
  },
  {
   "cell_type": "code",
   "execution_count": 45,
   "metadata": {
    "id": "oDV9KiwRwLGS"
   },
   "outputs": [],
   "source": [
    "# WRITE CODE HERE THAT REPRODUCES THE OUTPUT OF THE CELL BELOW\n",
    "# BE CAREFUL NOT TO RUN THE CELL BELOW, OTHERWISE YOU WON'T\n",
    "# BE ABLE TO SEE THE OUTPUT ANY MORE\n",
    "mat=np.array([[1,2,3,4,5],[6,7,8,9,10],[11,12,13,14,15],[16,17,18,19,20],[21,22,23,24,25]])"
   ]
  },
  {
   "cell_type": "code",
   "execution_count": 46,
   "metadata": {
    "id": "KBgH1JBFwLGT",
    "outputId": "04105ab3-08c7-4ba1-c718-baba064a3875"
   },
   "outputs": [
    {
     "data": {
      "text/plain": [
       "array([21, 22, 23, 24, 25])"
      ]
     },
     "execution_count": 46,
     "metadata": {},
     "output_type": "execute_result"
    }
   ],
   "source": [
    "mat[4]"
   ]
  },
  {
   "cell_type": "code",
   "execution_count": 47,
   "metadata": {
    "id": "e2UIEttWwLGV"
   },
   "outputs": [],
   "source": [
    "# WRITE CODE HERE THAT REPRODUCES THE OUTPUT OF THE CELL BELOW\n",
    "# BE CAREFUL NOT TO RUN THE CELL BELOW, OTHERWISE YOU WON'T\n",
    "# BE ABLE TO SEE THE OUTPUT ANY MORE\n",
    "mat=np.array([[1,2,3,4,5],[6,7,8,9,10],[11,12,13,14,15],[16,17,18,19,20],[21,22,23,24,25]])"
   ]
  },
  {
   "cell_type": "code",
   "execution_count": 48,
   "metadata": {
    "id": "97E_6tLBwLGW",
    "outputId": "b1b21a79-9c12-4d1a-b8ed-7d7dc6352a26"
   },
   "outputs": [
    {
     "data": {
      "text/plain": [
       "array([[16, 17, 18, 19, 20],\n",
       "       [21, 22, 23, 24, 25]])"
      ]
     },
     "execution_count": 48,
     "metadata": {},
     "output_type": "execute_result"
    }
   ],
   "source": [
    "mat[3:5]"
   ]
  },
  {
   "cell_type": "markdown",
   "metadata": {
    "id": "9z-nCBTDwLGX"
   },
   "source": [
    "### Now do the following"
   ]
  },
  {
   "cell_type": "markdown",
   "metadata": {
    "id": "Sn8q5TlUwLGX"
   },
   "source": [
    "#### Get the sum of all the values in mat"
   ]
  },
  {
   "cell_type": "code",
   "execution_count": 49,
   "metadata": {
    "id": "aIOAV3frwLGY",
    "outputId": "e5b5c5b9-1168-4434-83bb-cd93cb46924f"
   },
   "outputs": [
    {
     "data": {
      "text/plain": [
       "325"
      ]
     },
     "execution_count": 49,
     "metadata": {},
     "output_type": "execute_result"
    }
   ],
   "source": [
    "mat.sum()"
   ]
  },
  {
   "cell_type": "markdown",
   "metadata": {
    "id": "0daGccTQwLGZ"
   },
   "source": [
    "#### Get the standard deviation of the values in mat"
   ]
  },
  {
   "cell_type": "code",
   "execution_count": 50,
   "metadata": {
    "id": "_IMpbsh2wLGa",
    "outputId": "fecf7fcf-ffb7-4dc4-ab85-1a5981150500"
   },
   "outputs": [
    {
     "data": {
      "text/plain": [
       "7.211102550927978"
      ]
     },
     "execution_count": 50,
     "metadata": {},
     "output_type": "execute_result"
    }
   ],
   "source": [
    "mat.std()"
   ]
  },
  {
   "cell_type": "markdown",
   "metadata": {
    "id": "DvRiwi_BwLGb"
   },
   "source": [
    "#### Get the sum of all the columns in mat"
   ]
  },
  {
   "cell_type": "code",
   "execution_count": 51,
   "metadata": {
    "id": "-VL4bNBGwLGc",
    "outputId": "9a607cb4-3fbf-4310-facd-f7ac401d3eb7"
   },
   "outputs": [
    {
     "data": {
      "text/plain": [
       "array([55, 60, 65, 70, 75])"
      ]
     },
     "execution_count": 51,
     "metadata": {},
     "output_type": "execute_result"
    }
   ],
   "source": [
    "np.sum(mat, axis = 0)"
   ]
  },
  {
   "cell_type": "markdown",
   "metadata": {
    "collapsed": true,
    "id": "DHFq8l19wLGc"
   },
   "source": [
    "# Great Job!"
   ]
  }
 ],
 "metadata": {
  "colab": {
   "collapsed_sections": [],
   "name": "04-Numpy Exercises-Copy1.ipynb",
   "provenance": []
  },
  "kernelspec": {
   "display_name": "Python 3 (ipykernel)",
   "language": "python",
   "name": "python3"
  },
  "language_info": {
   "codemirror_mode": {
    "name": "ipython",
    "version": 3
   },
   "file_extension": ".py",
   "mimetype": "text/x-python",
   "name": "python",
   "nbconvert_exporter": "python",
   "pygments_lexer": "ipython3",
   "version": "3.10.9"
  }
 },
 "nbformat": 4,
 "nbformat_minor": 1
}
